{
 "cells": [
  {
   "cell_type": "markdown",
   "metadata": {},
   "source": [
    "# Applying Gradient Descent - Lab\n",
    "\n",
    "## Introduction\n",
    "\n",
    "In the last lesson, we derived the functions that we help us descend along our cost functions efficiently.  Remember that this technique is not so different from what we saw with using the derivative to tell us our next step size and direction in two dimensions.  \n",
    "\n",
    "![](./images/slopes.png)\n",
    "\n",
    "When descending along our cost curve in two dimensions, we used the slope of the tangent line at each point, to tell us how large of a step to take next.  And with the cost curve being a function of $m$ and $b$, we had to use the gradient to determine each step.  \n",
    "\n",
    "<img src=\"./images/new_gradientdescent.png\" width=\"600\">\n",
    "\n",
    "But really it's an analogous approach.  Just like we can calculate the use derivative of a function $f(x)$ to calculate the slope at a given value of $x$ on the graph and thus our next step.  Here, we calculated the partial derivative with respect to both variables, our slope and y-intercept, to calculate the amount to move next in either direction and thus to steer us towards our minimum.   \n",
    "\n",
    "## Objectives\n",
    "\n",
    "You will be able to:\n",
    "* Create a full gradient descent algorithm\n",
    "* Apply a gradient descent algorithm on a data set with more than one variable\n",
    "\n",
    "## Reviewing our gradient descent formulas\n",
    "\n",
    "Luckily for us, we already did the hard work of deriving these formulas.  Now we get to see the fruit of our labor.  The following formulas tell us how to update regression variables of $m$ and $b$ to approach a \"best fit\" line.   \n",
    "\n",
    "- $ \\frac{dJ}{dm}J(m,b) = -2\\sum_{i = 1}^n x_i(y_i - (mx_i + b)) = -2\\sum_{i = 1}^n x_i*\\epsilon_i$ \n",
    "- $ \\frac{dJ}{db}J(m,b) = -2\\sum_{i = 1}^n(y_i - (mx_i + b)) = -2\\sum_{i = 1}^n \\epsilon_i $\n",
    "\n",
    "Now the formulas above tell us to take some dataset, with values of $x$ and $y$, and then given a regression formula with values $m$ and $b$, iterate through our dataset, and use the formulas to calculate an update to $m$ and $b$.  So ultimately, to descend along the cost function, we will use the calculations:\n",
    "\n",
    "`current_m` = `old_m` $ -  (-2*\\sum_{i=1}^n x_i*\\epsilon_i )$\n",
    "\n",
    "`current_b` =  `old_b` $ - ( -2*\\sum_{i=1}^n \\epsilon_i )$\n",
    "\n",
    "Ok let's turn this into code.  First, let's initialize our data like we did before:"
   ]
  },
  {
   "cell_type": "code",
   "execution_count": 1,
   "metadata": {
    "ExecuteTime": {
     "end_time": "2019-10-28T22:38:15.380163Z",
     "start_time": "2019-10-28T22:38:14.587241Z"
    }
   },
   "outputs": [
    {
     "data": {
      "image/png": "[encoded data removed]",
      "text/plain": [
       "<Figure size 432x288 with 1 Axes>"
      ]
     },
     "metadata": {
      "needs_background": "light"
     },
     "output_type": "display_data"
    }
   ],
   "source": [
    "import numpy as np\n",
    "np.set_printoptions(formatter={'float_kind':'{:f}'.format})\n",
    "import matplotlib.pyplot as plt\n",
    "%matplotlib inline\n",
    "np.random.seed(225)\n",
    "\n",
    "x = np.random.rand(30, 1).reshape(30)\n",
    "y_randterm = np.random.normal(0,3,30)\n",
    "y = 3 + 50* x + y_randterm\n",
    "\n",
    "data = np.array([y, x])\n",
    "data = np.transpose(data)\n",
    "\n",
    "plt.plot(x, y, '.b')\n",
    "plt.xlabel(\"x\", fontsize=14)\n",
    "plt.ylabel(\"y\", fontsize=14);"
   ]
  },
  {
   "cell_type": "markdown",
   "metadata": {},
   "source": [
    "Now\n",
    "\n",
    "- Let's set our initial regression line by initializing $m$ and $b$ variables as zero.  Store them in `b_current` and `m_current`.\n",
    "- Let's next initialize updates to these variables by setting the variables, `update_to_b` and `update_to_m` equal to 0.\n",
    "- Define an `error_at` function which returns the error $\\epsilon_i$ for a given $i$. The parameters are:\n",
    "> point: a row of the particular data set  \n",
    "> $b$: the intercept term  \n",
    "> $m$: the slope  \n",
    "\n",
    "- Them, use this `error_at` function to iterate through each of the points in the dataset, and at each iteration change our `update_to_b` by $2*\\epsilon$ and change our `update_to_m` by $2*x*\\epsilon$."
   ]
  },
  {
   "cell_type": "code",
   "execution_count": 3,
   "metadata": {
    "ExecuteTime": {
     "end_time": "2019-10-28T22:47:32.125797Z",
     "start_time": "2019-10-28T22:47:32.118802Z"
    }
   },
   "outputs": [],
   "source": [
    "# initial variables of our regression line\n",
    "b_current = 0\n",
    "m_current = 0\n",
    "\n",
    "#amount to update our variables for our next step\n",
    "update_to_b = 0\n",
    "update_to_m = 0\n",
    "\n",
    "# Define the error_at function\n",
    "def error_at(point,b,m):\n",
    "    return (point[0]- (m * point[1]  + b))\n",
    "\n",
    "# iterate through data to change update_to_b and update_to_m\n",
    "for i in range(0,len(data)):\n",
    "    update_to_b += -2*(error_at(data[i], b_current, m_current))\n",
    "    update_to_m += -2*(error_at(data[i], b_current, m_current))*data[i][1]\n",
    "\n",
    "# Create new_b and new_m by subtracting the updates from the current estimates\n",
    "new_b = b_current - update_to_b\n",
    "new_m = m_current - update_to_m\n"
   ]
  },
  {
   "cell_type": "markdown",
   "metadata": {},
   "source": [
    "In the last two lines of the code above, we calculate our `new_b` and `new_m` values by updating our taking our current values and adding our respective updates.  We define a function called `error_at`, which we can use in the error component of our partial derivatives above.\n",
    "\n",
    "The code above represents **just one** update to our regression line, and therefore just one step towards our best fit line.  We'll just repeat the process to take multiple steps.  But first, we have to make a couple of other changes. \n",
    "\n",
    "## Tweaking our approach \n",
    "\n",
    "Ok, the above code is very close to what we want, but we just need to make tweaks to our code before it's perfect.\n",
    "\n",
    "The first one is obvious if we think about what these formulas are really telling us to do.  Look at the graph below, and think about what it means to change each of our $m$ and $b$ variables by at least the sum of all of the errors, of the $y$ values that our regression line predicts and our actual data.  That would be an enormous change.  To ensure that we drastically updating our regression line with each step, we multiply each of these partial derivatives by a learning rate.  As we have seen before, the learning rate is just a small number, like $.\n",
    "01$ which controls how large our updates to the regression line will be.  The learning rate is  represented by the Greek letter eta, $\\eta$, or alpha $\\alpha$.  We'll use eta, so $\\eta = .01$ means the learning rate is $.01$.\n",
    "\n",
    "Multiplying our step size by our learning rate works fine, so long as we multiply both of the partial derivatives by the same amount.  This is because without gradient,  $ \\nabla J(m,b)$, we think of as steering us in the correct direction.  In other words, our derivatives ensure we are making the correct **proportional** changes to $m$ and $b$.  So scaling down these changes to make sure we don't update our regression line too quickly works fine, so long as we keep me moving in the correct direction.  While we're at it, we can also get rid of multiplying our partials by 2.  As mentioned, so long as our changes are proportional we're in good shape. \n",
    "\n",
    "For our second tweak, note that in general the larger the dataset, the larger the sum of our errors would be.  But that doesn't mean our formulas are less accurate, and there deserve larger changes.  It just means that the total error is larger.  But we should really think accuracy as being proportional to the size of our dataset.  We can correct for this effect by dividing the effect of our update by the size of our dataset, $n$.\n",
    "\n",
    "Make these changes below:"
   ]
  },
  {
   "cell_type": "code",
   "execution_count": 4,
   "metadata": {
    "ExecuteTime": {
     "end_time": "2019-10-28T22:56:47.699196Z",
     "start_time": "2019-10-28T22:56:47.692198Z"
    }
   },
   "outputs": [],
   "source": [
    "update_to_b = 0\n",
    "update_to_m = 0 \n",
    "\n",
    "# define learning rate and n\n",
    "learning_rate = .01\n",
    "n = len(data)\n",
    "\n",
    "\n",
    "# create update_to_b and update_to_m\n",
    "for i in range(0,n):\n",
    "    update_to_b += -(1/n)*(error_at(data[i], b_current, m_current))\n",
    "    update_to_m += -(1/n)*(error_at(data[i], b_current, m_current)*data[i][0])\n",
    "    \n",
    "# create new_b and new_m\n",
    "new_b = b_current - (learning_rate * update_to_b)\n",
    "new_m = m_current - (learning_rate * update_to_m)\n",
    "\n"
   ]
  },
  {
   "cell_type": "markdown",
   "metadata": {},
   "source": [
    "So our code now reflects what we know about our gradient descent process.  Start with an initial regression line with values of $m$ and $b$.  Then for each point, calculate how the regression line fares against the actual point (that is, find the error).  Update what the next step to the respective variable should be by using the partial derivative.  And after iterating through all of the points, update the value of $b$ and $m$ appropriately, scaled down by a learning rate.\n",
    "\n",
    "## Seeing our gradient descent formulas in action\n",
    "\n",
    "As mentioned earlier, the code above represents just one update to our regression line, and therefore just one step towards our best fit line.  To take multiple steps we wrap the process we want to duplicate in a function called `step_gradient` and then can call that function as much as we want. With this function:\n",
    "\n",
    "- Include a learning_rate of 0.1\n",
    "- Return a tuple of (b,m)  \n",
    "The parameters should be:\n",
    "> b_current : the starting value of b   \n",
    "> m_current : the starting value of m   \n",
    "> points : the number of points at which we want to check our gradient \n",
    "\n",
    "See if you can use your `error_at` function within the `step_gradient` function!"
   ]
  },
  {
   "cell_type": "code",
   "execution_count": 5,
   "metadata": {
    "ExecuteTime": {
     "end_time": "2019-10-28T23:05:38.513814Z",
     "start_time": "2019-10-28T23:05:38.505818Z"
    }
   },
   "outputs": [],
   "source": [
    "def step_gradient(b_current, m_current, points):\n",
    "    b_gradient = 0\n",
    "    m_gradient = 0\n",
    "    learning_rate = .1\n",
    "    N = float(len(points))\n",
    "    for i in range(0, len(points)):\n",
    "        x = points[i][1]\n",
    "        y = points[i][0]\n",
    "        b_gradient += -(1/N) * (y - (m_current * x + b_current))\n",
    "        m_gradient += -(1/N) * x * (y -  (m_current * x + b_current))\n",
    "    new_b = b_current - (learning_rate * b_gradient)\n",
    "    new_m = m_current - (learning_rate * m_gradient)\n",
    "    return (new_b, new_m)"
   ]
  },
  {
   "cell_type": "markdown",
   "metadata": {},
   "source": [
    "Now let's initialize `b` and `m` as 0 and run a first iteration of the `step_gradient` function."
   ]
  },
  {
   "cell_type": "code",
   "execution_count": 6,
   "metadata": {
    "ExecuteTime": {
     "end_time": "2019-10-28T23:06:13.094884Z",
     "start_time": "2019-10-28T23:06:13.088874Z"
    }
   },
   "outputs": [
    {
     "name": "stdout",
     "output_type": "stream",
     "text": [
      "3.0250308395837813\n",
      "2.0728619246505193\n"
     ]
    }
   ],
   "source": [
    "b = 0\n",
    "m = 0\n",
    "first_step = step_gradient(b, m, data) # {'b': 0.0085, 'm': 0.6249999999999999}\n",
    "\n",
    "print(first_step[0])\n",
    "print(first_step[1])\n",
    "# b= 3.02503, m= 2.07286"
   ]
  },
  {
   "cell_type": "markdown",
   "metadata": {},
   "source": [
    "So just looking at input and output, we begin by setting $b$ and $m$ to 0 and 0.  Then from our step_gradient function, we receive new values of $b$ and $m$ of 3.02503 and 2.0728.  Now what we need to do, is take another step in the correct direction by calling our step gradient function with our updated values of $b$ and $m$."
   ]
  },
  {
   "cell_type": "code",
   "execution_count": 7,
   "metadata": {
    "ExecuteTime": {
     "end_time": "2019-10-28T23:08:53.832908Z",
     "start_time": "2019-10-28T23:08:53.824914Z"
    }
   },
   "outputs": [
    {
     "data": {
      "text/plain": [
       "(5.634896312558807, 3.902265648903966)"
      ]
     },
     "execution_count": 7,
     "metadata": {},
     "output_type": "execute_result"
    }
   ],
   "source": [
    "updated_b = first_step[0]\n",
    "updated_m = first_step[1]\n",
    "step_gradient(updated_b, updated_m, data) \n",
    "# b = 5.63489, m= 3.902265"
   ]
  },
  {
   "cell_type": "markdown",
   "metadata": {},
   "source": [
    "Let's do this, say, 1000 times."
   ]
  },
  {
   "cell_type": "code",
   "execution_count": 8,
   "metadata": {
    "ExecuteTime": {
     "end_time": "2019-10-28T23:10:27.400618Z",
     "start_time": "2019-10-28T23:10:27.289667Z"
    }
   },
   "outputs": [],
   "source": [
    "# set our initial step with m and b values, and the corresponding error.\n",
    "b = 0\n",
    "m = 0\n",
    "iterations = []\n",
    "for i in range(1000):\n",
    "    iteration = step_gradient(b, m, data)\n",
    "    b = iteration[0]\n",
    "    m = iteration[1]\n",
    "    # update values of b and m\n",
    "    iterations.append(iteration)\n",
    "    "
   ]
  },
  {
   "cell_type": "markdown",
   "metadata": {},
   "source": [
    "Let's take a look at the estimates in the last iteration."
   ]
  },
  {
   "cell_type": "code",
   "execution_count": 11,
   "metadata": {
    "ExecuteTime": {
     "end_time": "2019-10-28T23:12:26.728636Z",
     "start_time": "2019-10-28T23:12:26.713651Z"
    }
   },
   "outputs": [
    {
     "data": {
      "text/plain": [
       "[(3.189227579663368, 49.79626894988779),\n",
       " (3.188854703407862, 49.79691020771461),\n",
       " (3.1884842617229694, 49.797547278663245),\n",
       " (3.188116238712977, 49.79818019007051),\n",
       " (3.187750618585957, 49.798808969094736),\n",
       " (3.18738738565309, 49.799433642716934),\n",
       " (3.1870265243279916, 49.80005423774195),\n",
       " (3.186668019126043, 49.80067078079963),\n",
       " (3.1863118546637277, 49.80128329834592),\n",
       " (3.18595801565797, 49.80189181666407),\n",
       " (3.1856064869254803, 49.80249636186568),\n",
       " (3.185257253382103, 49.803096959891896),\n",
       " (3.184910300042169, 49.803693636514474),\n",
       " (3.1845656120178543, 49.804286417336904),\n",
       " (3.184223174518539, 49.80487532779551),\n",
       " (3.1838829728501747, 49.80546039316053),\n",
       " (3.1835449924146513, 49.80604163853722),\n",
       " (3.183209218709173, 49.80661908886692),\n",
       " (3.1828756373256364, 49.807192768928104),\n",
       " (3.1825442339500083, 49.80776270333749),\n",
       " (3.182214994361716, 49.80832891655105),\n",
       " (3.1818879044330357, 49.80889143286509),\n",
       " (3.181562950128484, 49.80945027641727),\n",
       " (3.1812401175042186, 49.81000547118767),\n",
       " (3.1809193927074393, 49.81055704099978),\n",
       " (3.180600761975792, 49.811105009521555),\n",
       " (3.18028421163678, 49.81164940026641),\n",
       " (3.179969728107176, 49.81219023659425),\n",
       " (3.1796572978924407, 49.812727541712434),\n",
       " (3.1793469075861425, 49.813261338676824),\n",
       " (3.1790385438693822, 49.81379165039274),\n",
       " (3.1787321935102226, 49.81431849961593),\n",
       " (3.1784278433631195, 49.81484190895359),\n",
       " (3.178125480368358, 49.8153619008653),\n",
       " (3.177825091551493, 49.815878497663995),\n",
       " (3.177526664022791, 49.81639172151693),\n",
       " (3.1772301849766773, 49.81690159444663),\n",
       " (3.176935641691188, 49.817408138331814),\n",
       " (3.1766430215274224, 49.81791137490837),\n",
       " (3.1763523119290014, 49.81841132577026),\n",
       " (3.1760635004215283, 49.818908012370464),\n",
       " (3.1757765746120548, 49.81940145602188),\n",
       " (3.1754915221885462, 49.81989167789825),\n",
       " (3.1752083309193577, 49.82037869903508),\n",
       " (3.1749269886527047, 49.82086254033053),\n",
       " (3.1746474833161447, 49.821343222546304),\n",
       " (3.174369802916058, 49.821820766308555),\n",
       " (3.1740939355371336, 49.82229519210877),\n",
       " (3.1738198693418567, 49.82276652030463),\n",
       " (3.173547592570002, 49.823234771120916),\n",
       " (3.1732770935381285, 49.82369996465034),\n",
       " (3.1730083606390784, 49.824162120854425),\n",
       " (3.1727413823414796, 49.82462125956438),\n",
       " (3.172476147189249, 49.82507740048192),\n",
       " (3.1722126438011027, 49.82553056318013),\n",
       " (3.1719508608700675, 49.82598076710429),\n",
       " (3.1716907871629947, 49.826428031572725),\n",
       " (3.1714324115200796, 49.826872375777626),\n",
       " (3.17117572285438, 49.827313818785875),\n",
       " (3.1709207101513446, 49.82775237953987),\n",
       " (3.1706673624683357, 49.82818807685831),\n",
       " (3.170415668934163, 49.82862092943706),\n",
       " (3.1701656187486154, 49.82905095584987),\n",
       " (3.169917201181999, 49.829478174549266),\n",
       " (3.1696704055746747, 49.82990260386726),\n",
       " (3.169425221336603, 49.83032426201619),\n",
       " (3.1691816379468882, 49.83074316708947),\n",
       " (3.168939644953327, 49.831159337062395),\n",
       " (3.1686992319719605, 49.83157278979288),\n",
       " (3.168460388686628, 49.83198354302225),\n",
       " (3.1682231048485248, 49.832391614375986),\n",
       " (3.167987370275763, 49.832797021364506),\n",
       " (3.1677531748529337, 49.83319978138389),\n",
       " (3.167520508530673, 49.83359991171663),\n",
       " (3.1672893613252304, 49.83399742953239),\n",
       " (3.167059723318042, 49.834392351888724),\n",
       " (3.166831584655303, 49.83478469573181),\n",
       " (3.1666049355475456, 49.8351744778972),\n",
       " (3.16637976626922, 49.83556171511049),\n",
       " (3.1661560671582762, 49.835946423988105),\n",
       " (3.165933828615748, 49.836328621037964),\n",
       " (3.165713041105343, 49.83670832266021),\n",
       " (3.1654936951530335, 49.837085545147886),\n",
       " (3.1652757813466486, 49.83746030468769),\n",
       " (3.165059290335471, 49.837832617360604),\n",
       " (3.1648442128298364, 49.838202499142625),\n",
       " (3.1646305396007333, 49.83856996590545),\n",
       " (3.1644182614794083, 49.83893503341713),\n",
       " (3.164207369356973, 49.839297717342774),\n",
       " (3.163997854184012, 49.83965803324521),\n",
       " (3.163789706970195, 49.84001599658565),\n",
       " (3.1635829187838898, 49.840371622724355),\n",
       " (3.1633774807517825, 49.84072492692131),\n",
       " (3.1631733840584935, 49.841075924336856),\n",
       " (3.1629706199461998, 49.84142463003234),\n",
       " (3.1627691797142603, 49.84177105897079),\n",
       " (3.162569054718842, 49.842115226017526),\n",
       " (3.162370236372548, 49.842457145940806),\n",
       " (3.162172716144051, 49.84279683341248)]"
      ]
     },
     "execution_count": 11,
     "metadata": {},
     "output_type": "execute_result"
    }
   ],
   "source": [
    "iterations[900:999]"
   ]
  },
  {
   "cell_type": "markdown",
   "metadata": {},
   "source": [
    "As you can see, our  m  and  b  values both update with each step. Not only that, but with each step, the size of the changes to  m and  b  decrease. This is because they are approaching a best fit line.\n",
    "\n",
    "## Let's include 2 predictors, $x_1$ and $x_2$\n",
    "\n",
    "Below, we generated a problem where we have 2 predictors. We generated data such that the best fit line is around $\\hat y = 3x_1 -4x_2 +2$, noting that there is random noise introduced, so the final result will never be exactly that. Let's build what we built previously, but now create a `step_gradient_multi` function that can take an *arbitrary* number of predictors (so the function should be able to include more than 2 predictors as well). Good luck!"
   ]
  },
  {
   "cell_type": "code",
   "execution_count": 12,
   "metadata": {
    "ExecuteTime": {
     "end_time": "2019-10-28T23:13:45.557766Z",
     "start_time": "2019-10-28T23:13:45.550775Z"
    }
   },
   "outputs": [],
   "source": [
    "import numpy as np\n",
    "import matplotlib.pyplot as plt\n",
    "np.random.seed(11)\n",
    "\n",
    "x1 = np.random.rand(100,1).reshape(100)\n",
    "x2 = np.random.rand(100,1).reshape(100)\n",
    "y_randterm = np.random.normal(0,0.2,100)\n",
    "y = 2+ 3* x1+ -4*x2 + y_randterm\n",
    "\n",
    "data = np.array([y, x1, x2])\n",
    "data = np.transpose(data)"
   ]
  },
  {
   "cell_type": "code",
   "execution_count": 13,
   "metadata": {
    "ExecuteTime": {
     "end_time": "2019-10-28T23:13:48.734372Z",
     "start_time": "2019-10-28T23:13:48.385570Z"
    }
   },
   "outputs": [
    {
     "data": {
      "image/png": "[encoded data removed]",
      "text/plain": [
       "<Figure size 720x360 with 2 Axes>"
      ]
     },
     "metadata": {
      "needs_background": "light"
     },
     "output_type": "display_data"
    }
   ],
   "source": [
    "f, (ax1, ax2) = plt.subplots(1, 2, figsize=(10, 5), sharey=True)\n",
    "ax1.set_title('x_1')\n",
    "ax1.plot(x1, y, '.b')\n",
    "ax2.set_title('x_2')\n",
    "ax2.plot(x2, y, '.b');"
   ]
  },
  {
   "cell_type": "markdown",
   "metadata": {},
   "source": [
    "Note that, for our gradients, when having multiple predictors $x_j$ with $j \\in 1,\\ldots, k$\n",
    "\n",
    "$$ \\frac{dJ}{dm_j}J(m_j,b) = -2\\sum_{i = 1}^n x_{j,i}(y_i - (\\sum_{j=1}^km{x_{j,i}} + b)) = -2\\sum_{i = 1}^n x_{j,i}*\\epsilon_i$$\n",
    "$$ \\frac{dJ}{db}J(m_j,b) = -2\\sum_{i = 1}^n(y_i - (\\sum_{j=1}^km{x_{j,i}} + b)) = -2\\sum_{i = 1}^n \\epsilon_i $$\n",
    "    \n",
    "\n",
    "So we'll have one gradient per predictor along with the gradient for the intercept!\n",
    "\n",
    "Create the `step_gradient_multi` function below. As we said before, this means that we have more than one feature that we are using as an independent variable in the regression. This function will have the same inputs as `step_gradient`, but it will be able to handle having more than one value for m. It should return the final values for b and m in the form of a tuple.\n",
    "\n",
    "- `b_current` refers to the y-intercept at the current step\n",
    "- `m_current` refers to the slope at the current step\n",
    "- `points` are the data points to which we want to fit a line\n",
    "\n",
    "You might have to refactor your `error` at function if you want to use it with multiple m values."
   ]
  },
  {
   "cell_type": "code",
   "execution_count": 14,
   "metadata": {
    "ExecuteTime": {
     "end_time": "2019-10-28T23:18:31.784490Z",
     "start_time": "2019-10-28T23:18:31.775497Z"
    }
   },
   "outputs": [],
   "source": [
    "def step_gradient_multi(b_current, m_current ,points):\n",
    "    b_gradient = 0\n",
    "    m_gradient = np.zeros(len(m_current))\n",
    "    learning_rate = .1\n",
    "    N = float(len(points))\n",
    "    for i in range(0, len(points)):\n",
    "        y = points[i][0]\n",
    "        x = points[i][1:(len(m_current)+1)] \n",
    "        b_gradient += -(1/N)  * (y -  (sum(m_current * x) + b_current))\n",
    "        m_gradient += -(1/N) * x * (y -  (sum(m_current * x) + b_current))\n",
    "    new_b = b_current - (learning_rate * b_gradient)\n",
    "    new_m = m_current - (learning_rate * m_gradient)\n",
    "    return (new_b, new_m)"
   ]
  },
  {
   "cell_type": "markdown",
   "metadata": {},
   "source": [
    "Apply 1 step to our data"
   ]
  },
  {
   "cell_type": "code",
   "execution_count": 16,
   "metadata": {
    "ExecuteTime": {
     "end_time": "2019-10-28T23:20:31.639309Z",
     "start_time": "2019-10-28T23:20:31.623300Z"
    }
   },
   "outputs": [
    {
     "data": {
      "text/plain": [
       "(0.13965491088061555, array([0.093847, 0.038762]))"
      ]
     },
     "execution_count": 16,
     "metadata": {},
     "output_type": "execute_result"
    }
   ],
   "source": [
    "b = 0\n",
    "m = [0,0]\n",
    "updated_b, updated_m = step_gradient_multi(b, m, data) # {'b': 0.0085, 'm': 0.6249999999999999}\n",
    "updated_b, updated_m"
   ]
  },
  {
   "cell_type": "markdown",
   "metadata": {},
   "source": [
    "Apply 500 steps to our data"
   ]
  },
  {
   "cell_type": "code",
   "execution_count": 17,
   "metadata": {
    "ExecuteTime": {
     "end_time": "2019-10-28T23:21:28.007759Z",
     "start_time": "2019-10-28T23:21:26.824446Z"
    }
   },
   "outputs": [],
   "source": [
    "# set our initial step with m and b values, and the corresponding error.\n",
    "b = 0\n",
    "m = [0,0]\n",
    "iterations = []\n",
    "for i in range(500):\n",
    "    iteration = step_gradient_multi(b, m, data)\n",
    "    b= iteration[0]\n",
    "    m = []\n",
    "    for j in range(len(iteration)):\n",
    "        m.append(iteration[1][j])\n",
    "    iterations.append(iteration)"
   ]
  },
  {
   "cell_type": "markdown",
   "metadata": {},
   "source": [
    "Look at the last step"
   ]
  },
  {
   "cell_type": "code",
   "execution_count": 18,
   "metadata": {
    "ExecuteTime": {
     "end_time": "2019-10-28T23:22:04.724865Z",
     "start_time": "2019-10-28T23:22:04.704877Z"
    }
   },
   "outputs": [
    {
     "data": {
      "text/plain": [
       "[(1.9017234401713816, array([2.965064, -3.805619])),\n",
       " (1.9022953491976522, array([2.965579, -3.807129])),\n",
       " (1.9028637809361744, array([2.966089, -3.808627])),\n",
       " (1.9034287572525872, array([2.966593, -3.810114])),\n",
       " (1.9039902998696256, array([2.967092, -3.811589])),\n",
       " (1.9045484303680935, array([2.967586, -3.813053])),\n",
       " (1.9051031701878303, array([2.968074, -3.814506])),\n",
       " (1.9056545406286696, array([2.968556, -3.815948])),\n",
       " (1.9062025628513923, array([2.969034, -3.817379])),\n",
       " (1.9067472578786724, array([2.969506, -3.818799])),\n",
       " (1.9072886465960155, array([2.969973, -3.820209])),\n",
       " (1.9078267497526922, array([2.970435, -3.821607])),\n",
       " (1.908361587962663, array([2.970892, -3.822995])),\n",
       " (1.9088931817054982, array([2.971344, -3.824373])),\n",
       " (1.9094215513272903, array([2.971791, -3.825740])),\n",
       " (1.909946717041561, array([2.972233, -3.827096])),\n",
       " (1.91046869893016, array([2.972671, -3.828443])),\n",
       " (1.9109875169441601, array([2.973103, -3.829779])),\n",
       " (1.9115031909047429, array([2.973531, -3.831105])),\n",
       " (1.9120157405040807, array([2.973954, -3.832420])),\n",
       " (1.9125251853062113, array([2.974372, -3.833726])),\n",
       " (1.913031544747906, array([2.974786, -3.835022])),\n",
       " (1.9135348381395327, array([2.975195, -3.836308])),\n",
       " (1.9140350846659118, array([2.975599, -3.837585])),\n",
       " (1.9145323033871668, array([2.975999, -3.838852])),\n",
       " (1.9150265132395685, array([2.976395, -3.840109])),\n",
       " (1.9155177330363733, array([2.976786, -3.841356])),\n",
       " (1.916005981468656, array([2.977173, -3.842594])),\n",
       " (1.9164912771061364, array([2.977555, -3.843823])),\n",
       " (1.9169736383979992, array([2.977933, -3.845043])),\n",
       " (1.91745308367371, array([2.978307, -3.846253])),\n",
       " (1.9179296311438245, array([2.978677, -3.847454])),\n",
       " (1.9184032989007915, array([2.979042, -3.848646])),\n",
       " (1.918874104919751, array([2.979404, -3.849829])),\n",
       " (1.9193420670593269, array([2.979761, -3.851003])),\n",
       " (1.919807203062413, array([2.980114, -3.852168])),\n",
       " (1.9202695305569546, array([2.980464, -3.853324])),\n",
       " (1.9207290670567245, array([2.980809, -3.854472])),\n",
       " (1.9211858299620928, array([2.981150, -3.855610])),\n",
       " (1.9216398365607916, array([2.981488, -3.856741])),\n",
       " (1.9220911040286748, array([2.981822, -3.857862])),\n",
       " (1.922539649430472, array([2.982152, -3.858976])),\n",
       " (1.9229854897205378, array([2.982478, -3.860080])),\n",
       " (1.9234286417435946, array([2.982800, -3.861177])),\n",
       " (1.9238691222354714, array([2.983119, -3.862265])),\n",
       " (1.924306947823837, array([2.983434, -3.863345])),\n",
       " (1.9247421350289282, array([2.983745, -3.864417])),\n",
       " (1.925174700264272, array([2.984053, -3.865481])),\n",
       " (1.9256046598374044, array([2.984357, -3.866536])),\n",
       " (1.9260320299505822, array([2.984658, -3.867584])),\n",
       " (1.926456826701492, array([2.984955, -3.868624])),\n",
       " (1.9268790660839523, array([2.985249, -3.869656])),\n",
       " (1.9272987639886114, array([2.985539, -3.870680])),\n",
       " (1.927715936203641, array([2.985826, -3.871697])),\n",
       " (1.9281305984154238, array([2.986110, -3.872705])),\n",
       " (1.9285427662092374, array([2.986390, -3.873707])),\n",
       " (1.9289524550699328, array([2.986667, -3.874700])),\n",
       " (1.9293596803826085, array([2.986941, -3.875687])),\n",
       " (1.9297644574332786, array([2.987211, -3.876665])),\n",
       " (1.9301668014095388, array([2.987479, -3.877637])),\n",
       " (1.9305667274012253, array([2.987743, -3.878601])),\n",
       " (1.93096425040107, array([2.988004, -3.879558])),\n",
       " (1.9313593853053521, array([2.988262, -3.880507])),\n",
       " (1.931752146914543, array([2.988517, -3.881450])),\n",
       " (1.9321425499339484, array([2.988769, -3.882385])),\n",
       " (1.9325306089743461, array([2.989017, -3.883313])),\n",
       " (1.9329163385526178, array([2.989263, -3.884235])),\n",
       " (1.9332997530923774, array([2.989506, -3.885149])),\n",
       " (1.9336808669245957, array([2.989746, -3.886057])),\n",
       " (1.9340596942882191, array([2.989983, -3.886958])),\n",
       " (1.9344362493307854, array([2.990218, -3.887852])),\n",
       " (1.9348105461090344, array([2.990449, -3.888739])),\n",
       " (1.9351825985895146, array([2.990678, -3.889619])),\n",
       " (1.9355524206491859, array([2.990904, -3.890493])),\n",
       " (1.9359200260760179, array([2.991127, -3.891361])),\n",
       " (1.9362854285695839, array([2.991347, -3.892222])),\n",
       " (1.9366486417416506, array([2.991565, -3.893076])),\n",
       " (1.9370096791167646, array([2.991780, -3.893924])),\n",
       " (1.9373685541328336, array([2.991993, -3.894766])),\n",
       " (1.9377252801417044, array([2.992203, -3.895601])),\n",
       " (1.938079870409737, array([2.992410, -3.896430])),\n",
       " (1.938432338118374, array([2.992614, -3.897253])),\n",
       " (1.938782696364706, array([2.992817, -3.898070])),\n",
       " (1.9391309581620344, array([2.993016, -3.898881])),\n",
       " (1.9394771364404289, array([2.993213, -3.899685])),\n",
       " (1.9398212440472813, array([2.993408, -3.900484])),\n",
       " (1.9401632937478563, array([2.993601, -3.901276])),\n",
       " (1.940503298225838, array([2.993790, -3.902063])),\n",
       " (1.9408412700838713, array([2.993978, -3.902843])),\n",
       " (1.941177221844103, array([2.994163, -3.903618])),\n",
       " (1.9415111659487152, array([2.994346, -3.904387])),\n",
       " (1.9418431147604573, array([2.994526, -3.905151])),\n",
       " (1.942173080563174, array([2.994705, -3.905908])),\n",
       " (1.942501075562329, array([2.994881, -3.906660])),\n",
       " (1.9428271118855258, array([2.995054, -3.907406])),\n",
       " (1.9431512015830243, array([2.995226, -3.908147])),\n",
       " (1.9434733566282547, array([2.995395, -3.908882])),\n",
       " (1.9437935889183264, array([2.995562, -3.909612])),\n",
       " (1.9441119102745354, array([2.995727, -3.910336]))]"
      ]
     },
     "execution_count": 18,
     "metadata": {},
     "output_type": "execute_result"
    }
   ],
   "source": [
    "iterations[400:499]"
   ]
  },
  {
   "cell_type": "markdown",
   "metadata": {},
   "source": [
    "## Level up - optional\n",
    "\n",
    "Try your own gradient descent algorithm on the Boston Housing data set, and compare with the result from scikit learn!\n",
    "Be careful to test on a few continuous variables at first, and see how you perform. Scikit learn has built-in \"regularization\" parameters to make optimization more feasible for many parameters.\n",
    "\n",
    "## Summary\n",
    "\n",
    "In this section, we saw our gradient descent formulas in action.  The core of the gradient descent functions is understanding the two lines: \n",
    "\n",
    "$$ \\frac{dJ}{dm}J(m,b) = -2\\sum_{i = 1}^n x(y_i - (mx_i + b)) = -2\\sum_{i = 1}^n x_i*\\epsilon_i$$\n",
    "$$ \\frac{dJ}{db}J(m,b) = -2\\sum_{i = 1}^n(y_i - (mx_i + b)) = -2\\sum_{i = 1}^n \\epsilon_i $$\n",
    "    \n",
    "Which both look to the errors of the current regression line for our dataset to determine how to update the regression line next.  These formulas came from our cost function, $J(m,b) = \\sum_{i = 1}^n(y_i - (mx_i + b))^2 $, and using the gradient to find the direction of steepest descent.  Translating this into code, and seeing how the regression line continued to improve in alignment with the data, we saw the effectiveness of this technique in practice. Additionally, we saw how you can extend the gradient descent algorithm to multiple predictors."
   ]
  }
 ],
 "metadata": {
  "kernelspec": {
   "display_name": "Python 3",
   "language": "python",
   "name": "python3"
  },
  "language_info": {
   "codemirror_mode": {
    "name": "ipython",
    "version": 3
   },
   "file_extension": ".py",
   "mimetype": "text/x-python",
   "name": "python",
   "nbconvert_exporter": "python",
   "pygments_lexer": "ipython3",
   "version": "3.6.6"
  },
  "toc": {
   "base_numbering": 1,
   "nav_menu": {},
   "number_sections": true,
   "sideBar": true,
   "skip_h1_title": false,
   "title_cell": "Table of Contents",
   "title_sidebar": "Contents",
   "toc_cell": false,
   "toc_position": {},
   "toc_section_display": true,
   "toc_window_display": false
  },
  "varInspector": {
   "cols": {
    "lenName": 16,
    "lenType": 16,
    "lenVar": 40
   },
   "kernels_config": {
    "python": {
     "delete_cmd_postfix": "",
     "delete_cmd_prefix": "del ",
     "library": "var_list.py",
     "varRefreshCmd": "print(var_dic_list())"
    },
    "r": {
     "delete_cmd_postfix": ") ",
     "delete_cmd_prefix": "rm(",
     "library": "var_list.r",
     "varRefreshCmd": "cat(var_dic_list()) "
    }
   },
   "types_to_exclude": [
    "module",
    "function",
    "builtin_function_or_method",
    "instance",
    "_Feature"
   ],
   "window_display": false
  }
 },
 "nbformat": 4,
 "nbformat_minor": 2
}
